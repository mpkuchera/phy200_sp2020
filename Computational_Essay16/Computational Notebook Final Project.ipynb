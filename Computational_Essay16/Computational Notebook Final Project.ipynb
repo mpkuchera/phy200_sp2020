{
 "cells": [
  {
   "cell_type": "markdown",
   "metadata": {},
   "source": [
    "<h1><center>Think a Baseball Pitch is Simple? Well Think Again!</center></h1>\n",
    "<h5><center> Using physics to model the trajectory of a baseball pitch </center></h5>\n"
   ]
  },
  {
   "cell_type": "markdown",
   "metadata": {},
   "source": [
    "![title](pitch.jpg)"
   ]
  },
  {
   "cell_type": "markdown",
   "metadata": {},
   "source": [
    "In the game of baseball, a ball is thrown and hit in the blink of an eye. Throwing a baseball may look and feel simple, but there are so many factors that come in to play. The speed and angle at which the ball is thrown affects the height and speed of where the ball crosses home plate. Other factors such as air resistance on the ball, spin on the ball, distance from the mound to the plate, position the ball is released, etc, all play a role. I will take you through through the physics behind a baseball pitch and at the end you will be able to input some values within reasonable parameters so you can see how each aspect plays a role in a 2D model of the trajectory of a baseball pitch! Let's have some fun!"
   ]
  },
  {
   "cell_type": "markdown",
   "metadata": {},
   "source": [
    "<h3><center>Forces That Act On a Pitch</center></h3>\n",
    "\n",
    "<img src=\"ball_effect.png\" width=400 height=400>\n",
    "\n",
    "I am going to talk about three important forces that play a role in a real life baseball pitch! First, I will go through what the gravitational force is all about. Then, I will focus on the force that opposes the direction of motion which is known as the drag force. Finally, I will introduce a force that isn't talked about much, but is very common in sports such as baseball with a spinning ball. This force is called the magnus force which accounts for the lift on the ball."
   ]
  },
  {
   "cell_type": "markdown",
   "metadata": {},
   "source": [
    "<h4><center>Gravitational Force</center></h4>\n",
    "\n",
    "<img src=\"gravity.jpg\" width=200 height=200>\n",
    "\n",
    "\n",
    "The first and most obvious force that acts on everything is the force of gravity. Without this force, any object, including a baseball would defy the laws of physics! The gravitational constant on earth is 9.8m/s which is one of the most common constants known in physics. The weight of the baseball would be the mass * gravitational constant, which as for any object is directed toward the center of the earth. \n",
    "\n",
    "By rule, the weight of a major league baseball is 5 ounces. A baseball is made with a solid core, a string wrapping around the core, and a stitched covering, so the weight is distributed throughout the ball. But we can often think of the weight as collected and acting through a single point called the center of gravity. The center of gravity is the average location of the weight of an object. To first order, the center of gravity for a baseball is located at the exact center of the ball. In flight, the ball rotates about the center of gravity. Newton's laws of motion describe the translation of the center of gravity. The physics describing the rotation, translation, weight and center of gravity of a baseball is the same for any ball.\n",
    "\n",
    "Gravity only acts in the y-direction which you can test by dropping any object! The object would go straight down, not to the right, left, or up. Newton found this out by sitting under an apple tree...or so I'm told. All I'm saying is if your object doesn't go straight down, alert the authorities because you just won a nobel prize in physics! "
   ]
  },
  {
   "cell_type": "markdown",
   "metadata": {},
   "source": [
    "<h4><center>Drag Force</center></h4>\n",
    "\n",
    "<img src=\"drag.gif\" width=200 height=200>\n",
    "\n",
    "\n",
    "As the ball moves through the air, the air resists the motion of the ball and the resistance force is called drag. Drag is directed along and opposed to the flight direction. In general, there are many factors that affect the magnitude of the drag force including the shape and size of the object, the square of the velocity of the object, and conditions of the air; particularly, the density and viscosity of the air. Determining the magnitude of the drag force is difficult because it depends on the details of how the flow interacts with the surface of the object. For a baseball, this is particularly difficult because the stitches used to hold the ball together are not uniformly or symmetrically distributed around the ball. Depending on the orientation of the ball in flight, the drag changes as the flow is disturbed by the stitches. To determine the magnitude of the drag, aerodynamicists normally use a wind tunnel to measure the drag on a model. For a baseball, the drag can be determined experimentally by throwing the ball and accurately measuring the change in velocity as the ball passes between two points of known distance."
   ]
  },
  {
   "cell_type": "markdown",
   "metadata": {},
   "source": [
    "<h4><center>Magnus Force</center></h4>\n",
    "\n",
    "<img src=\"magnus.png\" width=400 height=400>\n",
    "\n",
    "\n",
    "The magnus force which is also known as lift is the component of the aerodynamic force that is perpendicular to the flight direction. Airplane wings generate lift to overcome the weight of the airplane and allow the airplane to fly. A rotating cylinder and a spinning ball also generate aerodynamic lift. Like the drag, the magnitude of the lift depends on several factors related to the conditions of the air and the object, and the velocity between the object and the air. For a spinning ball, the speed of rotation affects the magnitude of the aerodynamic force and the direction of the force is perpendicular to the axis of rotation.\n",
    "\n",
    "The orientation of the axis of rotation can be varied by the pitcher when the ball is thrown. If the axis is vertical, the lift force is horizontal and the ball can be made to curve to one side. If the axis is horizontal, the lift force is vertical and the ball can be made to dive or loft depending on the direction of rotation.\n",
    "\n",
    "The stitches on a baseball introduce some additional complexity in the generation of lift and drag. For any object, the aerodynamic force acts through the center of pressure. The center of pressure is the average location of the aerodynamic forces on an object. For an ideal, smooth ball, symmetry considerations place the the center of pressure at the center of the ball along with the center of gravity. But a baseball in flight is neither smooth nor symmetric because of the stitches. So the center of pressure for a baseball moves slightly about the center of the ball with time, depending on the orientation of the stitches. The time-varying aerodynamic force causes the ball to move erratically. This motion is the source of the \"dancing\" knuckleball that confuses both batters and catchers alike. To account for the complexities when making predictions of the lift, aerodynamicists make an ideal prediction using theory, and then correct the prediction using experimental data. The lift coefficient - CM for the baseball was determined by high speed photography of the flight of a pitched ball.\n",
    "\n",
    "The motion of the ball through the air depends on the relative strength and direction of the forces shown above. Where there is less air pressure is the way the ball is spinning and on the other side of the baseball where there is higher air pressure, the ball is spinning in the direction opposite to that of the drag force."
   ]
  },
  {
   "cell_type": "markdown",
   "metadata": {},
   "source": [
    "<h3><center>How Do All These Forces Act Together!? And How Do I Code This!?</center></h3>\n",
    "\n",
    "<img src=\"confused.jpg\" width=400 height=400>\n",
    "\n",
    "\n",
    "Now that you have learned the physics behind a baseball pitch, you are well on your way to try a few parameters and see how changing variables changes the trajectory of the simulated pitch! But first, let's talk about how you can take everything you just learned about the physics of a baseball pitch above and translate it all in to code that could be simulated! \n",
    "\n",
    "There are many constants that need to be taken in to account for a baseball pitch such as the radius of the baseball, the gravitational constant of earth, the x-distance of the release point of the baseball to the plate, the mass of the baseball, air density, drag constant, magnus constant, the y-distance of the release point to the ground, initial velocity, and the angle the ball is released! The amount of variables seem endless! Furthermore, after you input these values, you need to figure out a way to compute them all to model the trajectory. \"Ahhhhhhh!\" Here comes runge kutta four to the rescue! This is a computational method that is derived from Euler's method and is an ordinary differential equation (ODE) solver! \n",
    "\n",
    "\n",
    "<img src=\"velocity_force.png\" width=200 height=200>\n",
    "\n",
    "\n",
    "You need to break up your position, velocity, and acceleration components in to x and y values which you can do by using that sin and cos jazz. When you do this, you can start using runge kutta four! In terms of modeling a baseball pitch, important equations I needed to use to calulate the drag force and magnus force are shown below.\n",
    "\n",
    "<img src=\"drag_eqn.png\" width=200 height=200>\n",
    "\n",
    "\n",
    "Don't freak out. I'm going to go over each term in this expression.\n",
    "\n",
    "The negaive is because air resistance or the drag force opposes the direction of motion.\n",
    "\n",
    "ρ is the density of the air\n",
    "\n",
    "A is the cross-sectional area of the ball. This would be the area of a circle with the radius of the ball which is (A = pi * radius^2).\n",
    "\n",
    "C is a drag coefficient. This parameter depends on the shape of the object.\n",
    "\n",
    "Finally, of course, v is the velocity. But what about the v with the hat-like symbol over it? That is called v-hat. True. It's a unit vector in the direction of the velocity vector. This means it has a magnitude of 1 such that it doesn't change the total air force. It's there to make this whole expression a vector.\n",
    "\n",
    "\n",
    "<img src=\"mag_eqn.png\" width=200 height=200>\n",
    "\n",
    "\n",
    "\n",
    "As you might have noticed, the magnus force is very similar to the drag force! Only with a different constant, direction, and an added omega vector component. Just like the drag force, the magnus effect is an interaction between the ball and the air. The difference is that this force is due to a spinning ball. As the ball both moves and spins, the friction between the surface of the ball and the air sort of pulls the air off to the side. This change in momentum of the air produces a force on the ball in the other direction. \n",
    "\n",
    "\n",
    "The direction of this Magnus force is perpendicular to both the velocity vector and the angular velocity vector (which is in the direction of the axis of rotation). The magnitude of the force depends on the velocity, the angular velocity, the area of the ball, the density of air and a Magnus coefficient (CM).\n",
    "\n",
    "\n",
    "<img src=\"mag_hats.png\" width=100 height=100>\n",
    "\n",
    "\n",
    "Yes, that F-hat vector at the end doesn't really tell you much except for the direction of the force. I can calculate this direction using the cross product."
   ]
  },
  {
   "cell_type": "markdown",
   "metadata": {},
   "source": [
    "<h3><center>Tips For Parameter Values!</center></h3>\n",
    "\n",
    "<center>Here are a few notes to keep in mind as you try different parameters! (Make sure to only type in a number and NOT a unit or you'll get an error!)</center>\n",
    "\n",
    "<img src=\"tips.png\" width=400 height=400>\n",
    "\n",
    "\n",
    "\n",
    "- The distance from the center of the mound to the center of the plate is 18.66 meters, but the release point in the x-direction is a little under that with the average being between 16.5 meters and 17 meters. This is because the average baseball player stands in the middle of the mound at the start of their pitch and leans forward as he throws his pitch to make the distance between the point of release of the pitch and point of contact with the bat shorter.\n",
    "\n",
    "\n",
    "- There are many different baseball fields which are all at different altitudes. The average air density is 1.23 which I would recommend, but try changing this value to simulate pitching at different fields around the world!\n",
    "\n",
    "\n",
    "- The drag constant has to do with how the drag force is calculated. The parameters of the drag constant depends on the shape of the object, but for a baseball, any value between 0.4 and 0.5 has been found to be sufficient.\n",
    "\n",
    "\n",
    "- The magnus constant has to deal with how the magnus force is calculated. The parameters of the magnus constant depends on the object's speed, angular velocity, and type of surface. For a baseball, any value between 0.2 and 0.3 is adequate.\n",
    "\n",
    "\n",
    "- The average height of a baseball player is 1.8 meters, but the release height in the y-direction of a baseball pitch is at an angle above a player's head, higher than a player's height, which means that the release point is higher than 1.8 meters. The parameters you can play around with is between 2 meters and 2.5 meters which accounts for the varying heights of a pitcher, that changes their release points.\n",
    "\n",
    "\n",
    "- Good values to put for the velocity of a pitch is between 20m/s and 45m/s which correlates to 45mph and 100mph, respectively. Say you put in the value of 20m/s, then you will be asked for the angle at which the pitcher will throw the ball, a good value to put in is 15 degrees so that the ball can go in the strike zone versus you putting in 1 degree, where the ball will land on the ground. \n",
    "\n",
    "\n",
    "- I put the angle parameters between 1 degree and 15 degrees which you should input with an inverse relationship between the angle and velocity in mind. The faster the velocity, the smaller the angle and vice versa.\n",
    "\n",
    "\n",
    "\n",
    "\n",
    "(Note: you may change the velocity and angle of the pitch to go outside the parameters I put to try different combinations, the parameters I put are only recommended values that are consistant with a real life pitch. But, you shouldn't go outside the parameters of any other values besides the velocity and angle.)"
   ]
  },
  {
   "cell_type": "markdown",
   "metadata": {},
   "source": [
    "<h3><center>What Should My Final Result Be!?</center></h3>\n",
    "\n",
    "<img src=\"strike_zone.jpg\" width=400 height=400>\n",
    "\n",
    "\n",
    "When you try a few perameters, you will see a trajectory plot which will show the side view of a baseball being pitched with x = 0 meters being where the baseball is released and x = 16.5 meters to 17 meters is where the home plate is and where the hitter should make contact with the ball. The ball should start anywhere between y = 2 meters to 2.5 meters depending on what value you put as the release height of the baseball. \n",
    "\n",
    "\n",
    "For a pitch to be in the strike zone, that means the ball will be between a hitter's kneecap and midpoint of their torso. As for the simulated trajectory, that means the ball should end up between 0.5 meters and 1.5 meters in the y-direction in order for the pitch to be successfully within the strike zone and not be a grounder or a high rise ball.\n",
    "\n",
    "\n",
    "For your first successful go around, try the values below!\n",
    "\n",
    "17\n",
    "\n",
    "1.23\n",
    "\n",
    "0.45\n",
    "\n",
    "0.25\n",
    "\n",
    "2.3\n",
    "\n",
    "30\n",
    "\n",
    "4\n",
    "\n",
    "\n"
   ]
  },
  {
   "cell_type": "code",
   "execution_count": 2,
   "metadata": {},
   "outputs": [
    {
     "name": "stdout",
     "output_type": "stream",
     "text": [
      "enter the distance from the release point of the pitch to the plate in meters between 16.5 and 17:  17\n",
      "enter the air density of the pitch between 0.8 and 1.3 (average is 1.23):  1.23\n",
      "enter the drag constant of the pitch between 0.4 and 0.5:  0.45\n",
      "enter the magnus constant of the pitch between 0.2 and 0.3:  0.25\n",
      "enter the height of the release point in meters between 2 and 2.5:  2.3\n"
     ]
    }
   ],
   "source": [
    "import baseball as b"
   ]
  },
  {
   "cell_type": "code",
   "execution_count": 8,
   "metadata": {
    "scrolled": true
   },
   "outputs": [
    {
     "name": "stdout",
     "output_type": "stream",
     "text": [
      "enter the velocity of the pitch between 20 m/s and 45 m/s:  30\n",
      "enter the angle of the pitch between 1 degrees and 15 degrees:  4\n"
     ]
    },
    {
     "data": {
      "image/png": "[encoded data removed]",
      "text/plain": [
       "<Figure size 432x288 with 1 Axes>"
      ]
     },
     "metadata": {
      "needs_background": "light"
     },
     "output_type": "display_data"
    }
   ],
   "source": [
    "b.main()\n"
   ]
  },
  {
   "cell_type": "markdown",
   "metadata": {},
   "source": [
    "Didn't I tell you this would be fun and informative!? I hope you learned about the physics behind a baseball pitch and a way to code it all! Keep on trying different values to the parameters! There are endless combinations that all affect the outcome of a baseball pitch. See, told you it was complicated. Next time you throw a ball or watch those major league players pitch, keep in mind the amount of physics that is behind it all! Hope you enjoyed!"
   ]
  },
  {
   "cell_type": "markdown",
   "metadata": {},
   "source": [
    "<h3><center>References</center></h3>\n",
    "\n",
    "Physics of a Baseball\n",
    "\n",
    "https://www.wired.com/story/lets-break-down-the-physics-of-a-wickedly-curving-baseball/\n",
    "\n",
    "Baseball Code Help\n",
    "\n",
    "https://www.wired.com/story/lets-break-down-the-physics-of-a-wickedly-curving-baseball/\n",
    "\n",
    "Drag Coefficient \n",
    "\n",
    "http://baseball.physics.illinois.edu/LiftDrag-1.pdf\n",
    "\n",
    "Effect of Spin\n",
    "\n",
    "http://baseball.physics.illinois.edu/AJPFeb08.pdf\n",
    "\n",
    "General Code Help\n",
    "\n",
    "https://www.eidos.ic.i.u-tokyo.ac.jp/~tau/lecture/computational_physics/docs/computational_physics.pdf\n",
    "\n",
    "Baseball Aspects\n",
    "\n",
    "file:///Users/jaime/Downloads/CSM3rd_revised.pdf\n"
   ]
  },
  {
   "cell_type": "code",
   "execution_count": null,
   "metadata": {},
   "outputs": [],
   "source": []
  }
 ],
 "metadata": {
  "kernelspec": {
   "display_name": "Python 3",
   "language": "python",
   "name": "python3"
  },
  "language_info": {
   "codemirror_mode": {
    "name": "ipython",
    "version": 3
   },
   "file_extension": ".py",
   "mimetype": "text/x-python",
   "name": "python",
   "nbconvert_exporter": "python",
   "pygments_lexer": "ipython3",
   "version": "3.6.10"
  }
 },
 "nbformat": 4,
 "nbformat_minor": 4
}
