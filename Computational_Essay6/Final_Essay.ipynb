{
 "cells": [
  {
   "cell_type": "markdown",
   "metadata": {},
   "source": [
    "# <center>Damped Driven Pendulum"
   ]
  },
  {
   "cell_type": "markdown",
   "metadata": {},
   "source": [
    "<img src=\"img.jpg\" />\n",
    "\n",
    "The motion of a pendulum is one that is often used for studying periodic motion, where an ideal pendulum is one that oscillates with a specific period. But the period of a pendulum can be changed by external forces, against the motion (damping effect) or adding to the motion (driving effect). In this essay, we will see the effects of both seprately and together through sevral angular position versus time plots, and futher delve into the motion as it reaches chaos.\n",
    "\n",
    "## Background\n",
    "\n",
    "This essay will be exploring a Damped Driven Pendulum and the differential equation of the motion, which includes both the damped and driving term. The equation is as follows:\n",
    "<img src=\"Diff_eq.png\" width=\"300\">\n",
    "\n",
    "where the dots represent the order of the differential and the Greek letter phi represents the angular position, hence phi-dot is the angular velocity and phi-double-dot is the angular acceleration. The greek letter Beta is b/m, where b is the damping constant and m is the mass of the object on the pendulum in kg. Omega-knot is the natural frequency of the pendulum but, omega-knot squared is g/L (g is the gravitational constant and L is the length of the string the mass hangs from), γ is the driving strength (Force/weight of the mass on pendulum), and ω is the drive frequency. \n",
    "\n",
    "## Methods\n",
    "\n",
    "The libraries that were used were Numpy and Pylab, for mathematical notation and plotting. The differentical equation that had been used is the same one mentioned above, however, this program is centered mostly around the fourth order Runge-Kutta method. In order to use this method, the second order differential equation is divided into two first order differential equations:\n",
    "\n",
    "   $$ \\frac{d\\phi}{dt} = \\omega\\ $$\n",
    "    \n",
    "   $$\\frac{d\\omega}{dt} = \\omega_0^2 \\gamma \\cos{\\omega t} - 2 \\beta \\frac{d\\phi}{dt} - \\omega_0^2 \\phi$$\n",
    "\n",
    "The program relies on the fourth order Runge-Kutta method, which is a method of integrating differential equations by using a step method. And, the fourth order Runge-Kutta method is outlined below:\n",
    "\n",
    "$$\\begin{eqnarray}\n",
    "k_1& = &hf(x,t)\\\\\n",
    "k_2& = &hf(x+\\frac{1}{2}k_1),t+\\frac{1}{2}h) \\\\\n",
    "k_3& = &hf(x+\\frac{1}{2}k_2,t+\\frac{1}{2}h) \\\\\n",
    "k_4& = &hf(x+k_3,t+h)\\\\\n",
    "x(t+h)& = & x(t) + \\frac{1}{6}(k_1+2k_2+2k_3+k_4)\n",
    "\\end{eqnarray}$$\n",
    "\n",
    "where the f(x) function is coded below, and contains the two first order differential equations. r is assigened to an array with two elements, the initial phi angle and starting angular velocity. Addtionally, there is also costants function, which is the only function that will be need to be alterted by the user. Providing different initial contions will yield different types of motion.\n"
   ]
  },
  {
   "cell_type": "code",
   "execution_count": 1,
   "metadata": {},
   "outputs": [],
   "source": [
    "def constants():\n",
    "    g = 9.81 #acceleration due to gravity\n",
    "    length = 0.1  #length of pendulum in meters\n",
    "    mass=  4 #mass of pendulum in kilograms\n",
    "    b = 1.8 #1.8 #resistive force, must be changed to zero for a normal harmonic occilator\n",
    "    beta = b/mass #damping constant      \n",
    "    omega_nat_sq = g/length  #natural frequncy squared in Hz\n",
    "    omega_dri= 2.0#2.0 #driving frequency in Hz, must be changed to zero for a normal harmonic occilator\n",
    "    gamma = 1.8#0.5#driving constant, must be changed to zero for a normal harmonic occilator\n",
    "    if beta > (omega_nat_sq)**0.5: #only if overdamped\n",
    "        beta = beta - (beta**2 - omega_nat_sq)**0.5 \n",
    "    return omega_nat_sq,beta,omega_dri,gamma\n",
    "\n",
    "def f(r,t):\n",
    "    nat_freq_sq,damp_cons,drive_freq,driv_cons = constants()\n",
    "    phi = r[0]\n",
    "    omega = r[1]\n",
    "    phi_dot = omega\n",
    "    omega_dot = (nat_freq_sq*driv_cons)*np.cos(drive_freq*t) - 2*damp_cons*phi_dot - nat_freq_sq*phi \n",
    "    \n",
    "    return np.array([phi_dot,omega_dot],float)"
   ]
  },
  {
   "cell_type": "markdown",
   "metadata": {},
   "source": [
    "I have also used the Poincaré Section, which are plots that take random points from each drive cycle as the State Space diagram can get hectic, and often unable to read. For this, I have used the code outlined below:"
   ]
  },
  {
   "cell_type": "code",
   "execution_count": null,
   "metadata": {},
   "outputs": [],
   "source": [
    "def poincare_points():\n",
    "    list_time,list_pos,list_vel = runge_k() \n",
    "    intersec_indx = [0] #indicies that are just before the crossing of the x-axis\n",
    "    s3 = np.sign(list_vel)  #determines when the sign change in an array \n",
    "    poincare_indx = []\n",
    "    zero_crossings = np.where(np.diff(s3))[0] #determines the indicies when the sign of the graph changes \n",
    "    for i in range(len(zero_crossings)):\n",
    "        intersec_indx.append(zero_crossings[i]) \n",
    "    for i in range(len(intersec_indx)):\n",
    "        if intersec_indx[i] == intersec_indx[-1]: \n",
    "            break\n",
    "        poincare_indx.append(random.randint(intersec_indx[i], intersec_indx[i+1])) #generates a random number between the crossings\n",
    "    return poincare_indx, list_pos, list_vel\n"
   ]
  },
  {
   "cell_type": "markdown",
   "metadata": {},
   "source": [
    "This code plots two random points from each drive cycle"
   ]
  },
  {
   "cell_type": "markdown",
   "metadata": {},
   "source": [
    "## Results\n",
    "\n",
    "To check the plots against a known result, I removed all damping and driving factors from the equation to ensure I got the results of a normal harmonic pendulum. To achieve that, I equaled \n",
    "$$ b = 0 $$\n",
    "$$ \\omega_0 ^2 = \\frac{g}{Length\\;of\\;the\\;pendulum},\\; the\\;natural\\;frequency\\;squared $$\n",
    "$$ \\omega = 0,\\;the\\;driving\\;frequency $$\n",
    "$$ \\gamma = 0$$\n",
    "\n",
    "which yields the following plots\n",
    "<table><tr>\n",
    "<td> <img src=\"pl1.png\" alt=\"Drawing\" width = 400;\"/> </td>\n",
    "<td> <img src=\"vel1.png\" width=\"400\" alt=\"Drawing\";\"/> </td>\n",
    "</tr></table>\n",
    "<tr>\n",
    "    \n",
    "We expect these results as a simple harmonic oscillator should be able to maintain the same amplitude and period if there are no external forces. And, it is clear by the first plot (Angular position vs Time) that the width and the amplitude of each wave remains identical. In a similar manner, the State Space graph  shows the Angular velocity versus the Angular postion, which is like an orbit–a result we expect as the radius of the shape does not change, indicating the repetition of the same motion and the maintenance of the same period throughout. \n",
    "    \n",
    "Now, let see see the effects of just the damping term. \n",
    "$$ b = 1.8 $$\n",
    "$$ \\omega_0 ^2 =  \\frac{g}{Length\\;of\\;the\\;pendulum},\\; the\\;natural\\;frequency\\;squared $$\n",
    "$$ \\omega = 0,\\;the\\;driving\\;frequency $$\n",
    "$$ \\gamma = 0$$\n",
    "\n",
    "which yields the following plots\n",
    "<table><tr>\n",
    "<td> <img src=\"dmp1.png\" alt=\"Drawing\" width = 400;\"/> </td>\n",
    "<td> <img src=\"dmp2.png\" width=\"400\" alt=\"Drawing\";\"/> </td>\n",
    "</tr></table>\n",
    "<tr>\n",
    "\n",
    "We have only changed the values of b, adding a resistive force, which in turn changes the damping constant-represented by the Greek letter beta in the differential equation. The effect of an external force can be seen drastically as the amplitude of the motion begins to decrease. The State Space diagram shows that the period is increasing as more times passes, and this is no loger an ideal pendulum. This senario can be thought of as a pendulum we all see in our everyday lives; due to friction the motion of a pendulum eventually comes to a complete halt. Therfore, the damping force can be thought of as a resistive force that works like friction.\n",
    "    \n",
    "    \n",
    "We will now move on to the effects of just the driving term.\n",
    "$$ b = 0 $$\n",
    "$$ \\omega_0 ^2 =\\frac{g}{Length\\;of\\;the\\;pendulum},\\; the\\;natural\\;frequency\\;squared $$\n",
    "$$ \\omega = 2.0,\\;the\\;driving\\;frequency $$\n",
    "$$ \\gamma = 0.5 $$    \n",
    "    \n",
    "which yields the following plots\n",
    "<table><tr>\n",
    "<td> <img src=\"dri1.png\" alt=\"Drawing\" width = 400;\"/> </td>\n",
    "<td> <img src=\"dri2.png\" width=\"400\" alt=\"Drawing\";\"/> </td>\n",
    "</tr></table>\n",
    "<tr>\n",
    "\n",
    "The changed values of the constants show an effect of when an external force is added, however it is important to note that this external force is added at a frenquency of 2.0 Hz, which is represented by the Greek letter omega, also known as the driving frequency, which is every 0.5 seconds in this case. The first plot shows a combination of the natural motion and the driving, and the State Space plot shows two forms of period that are being repeated. \n",
    "    \n",
    "    \n",
    "Finally, we transition into what occurs when there is combined, damping and driven, motion. \n",
    "$$ b = 1.8 $$\n",
    "$$ \\omega_0 ^2 =\\frac{g}{Length\\;of\\;the\\;pendulum},\\; the\\;natural\\;frequency\\;squared $$\n",
    "$$ \\omega = 2.0,\\;the\\;driving\\;frequency $$\n",
    "$$ \\gamma = 0.5 $$    \n",
    "    \n",
    "which yields the following plots\n",
    "<table><tr>\n",
    "<td> <img src=\"comb1.png\" alt=\"Drawing\" width = 400;\"/> </td>\n",
    "<td> <img src=\"comb2.png\" width=\"400\" alt=\"Drawing\";\"/> </td>\n",
    "</tr></table>\n",
    "<tr> \n",
    "    \n",
    "The first plot shows that the motion beings with what we expect from the previous senario of driving term, however we see that eventually that motion beings to die down and settles at a new equilibrium. This motion from t = 0 to t = 5.0 shows transient brehaviour, which is the initial behaviour caused by the combination on the damping and driving term. The behaviour dies down due to fact that the driving frequency overcomes the damping motion and the natural frequency of the pendulum and remains with only the driving term. The State Space plot shows the changes in period as the trasient motion dies down, and begins to settle into a new period. If the motion were to continue, the State Space would have a new constant radius.    "
   ]
  },
  {
   "cell_type": "markdown",
   "metadata": {},
   "source": [
    "Chaotic Motion, when $$ \\gamma = 1.5 $$\n",
    "<table><tr>\n",
    "<td> <img src=\"caho.png\" alt=\"Drawing\" width = 400;\"/> </td>\n",
    "<td> <img src=\"chao 2.png\" width=\"400\" alt=\"Drawing\";\"/> </td>\n",
    "</tr></table>\n",
    "<tr> \n"
   ]
  },
  {
   "cell_type": "markdown",
   "metadata": {},
   "source": [
    "We see no repeat in period through the Space State plot. And the Poincaré section, though shows an orbit in the begining, we can see the scattered points that show no repeat in motion. This is due to the fact that the dirving constant has surpassed the value of one, which delves into chaotic motion. A motion that is related to the sesitivity to the initial conditions, and how changing them can lead to a motion that does not repeat. "
   ]
  },
  {
   "cell_type": "markdown",
   "metadata": {},
   "source": [
    "# Conclusion \n",
    "Although I saw what seems to be non-repeated motion, I do believe further investigation into other systems is necessary for a better understanding of chaotic motion. If I were to futher continue, I would approach this with a double pendelum system, where I would be able to more clearly, see the results of initial conditions on the motion of a damped drived pendulum. And to do that, the first step would be to find a differntial equation for the system, but the remaining of the program would look the same. "
   ]
  },
  {
   "cell_type": "markdown",
   "metadata": {},
   "source": [
    "# Refrences"
   ]
  },
  {
   "cell_type": "markdown",
   "metadata": {},
   "source": [
    "Taylor, John R. (John Robert), 1939-. Classical Mechanics. Sausalito, Calif. :University Science Books, 2005.\n",
    "\n",
    "Newman, Mark E. J. Computational Physics. Createspace, 2013.\n",
    "    "
   ]
  },
  {
   "cell_type": "code",
   "execution_count": null,
   "metadata": {},
   "outputs": [],
   "source": []
  }
 ],
 "metadata": {
  "kernelspec": {
   "display_name": "Python 3",
   "language": "python",
   "name": "python3"
  },
  "language_info": {
   "codemirror_mode": {
    "name": "ipython",
    "version": 3
   },
   "file_extension": ".py",
   "mimetype": "text/x-python",
   "name": "python",
   "nbconvert_exporter": "python",
   "pygments_lexer": "ipython3",
   "version": "3.6.10"
  }
 },
 "nbformat": 4,
 "nbformat_minor": 4
}
