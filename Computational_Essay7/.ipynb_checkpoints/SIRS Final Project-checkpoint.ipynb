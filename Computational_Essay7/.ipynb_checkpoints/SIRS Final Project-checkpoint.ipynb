{
 "cells": [
  {
   "cell_type": "markdown",
   "metadata": {},
   "source": [
    "## PHY/CSC 200 Final Project ##\n",
    "### Modeling the Coronavirus in NC with the SIR infection model ###\n",
    "<img src=\"header.jpg\">"
   ]
  },
  {
   "cell_type": "markdown",
   "metadata": {},
   "source": [
    "# Background #\n",
    "\n",
    "### One of the scariest elements of a virus, such as the Coronavirus, is the unpredictable nature of exponential growth. While COVID is not an especially deadly virus, it was the display of exponential growth in infections that has forced many societies into lockdowns. Luckily, mathematical physics lends help to modeling infections similar to concepts of such as expontential radioactive decay. One such model that attempts to predict the growth of a virus is the SIR model. ###"
   ]
  },
  {
   "cell_type": "markdown",
   "metadata": {},
   "source": [
    "# The SIR Model #\n",
    "\n",
    "### The SIR model is an acronym that tracks 3 parts of a population subject to an infection: ###\n",
    "#### -Susceptible (S) ####\n",
    "#### -Infected (I) ####\n",
    "#### -Recovered (R) ####\n",
    "### Thus, we can say that the population (N) is equal to (S+I+R). One of the cons of modeling a virus with the SIR model is that it ignores a lot of varibles. Population changes such as immigration, birth and death are not factored into the population. It is also assuming that infections can only come about from individuals within the defined population. The constant population assumption does not harm the COVID model too much becasue of the low death rate. One of the pros to the SIR model is that it does a decent job of predicting the lengths of time between initial infection and peak infection.  ###"
   ]
  },
  {
   "cell_type": "markdown",
   "metadata": {},
   "source": [
    "# Method #\n",
    "\n",
    "#### The SIR model represents the three elements of the population with the differential equations: ####\n",
    "$$dS/dt = -B*S*I/N$$\n",
    "$$dI/dt = B*S*I/N - g*I$$\n",
    "$$dR/dt = g*I$$\n",
    "#### This is the fourth order Runge-Kutta Method that will be used to solve the differential equations. ####\n",
    "$$k1 = h*f(r,t)$$\n",
    "$$k2 = hf(r+\\frac{1}{2}k1,t+\\frac{1}{2}h)$$\n",
    "$$k3 = hf((r+\\frac{1}{2}k2,t+\\frac{1}{2}h)$$\n",
    "$$k4 = hf(r+k3,t_h)$$\n",
    "$$r(t+h) = r(t) +\\frac{1}{6}(k1+2k2+2k3+k4)$$\n",
    "#### Since n = S+I+R, we only need to solve two of the differntial equations, and the third variable can be found from the other two. In this code, it only solves for S and I, and R is equal to n - S - I. This yields the exact same thing as the solution to the dR/dt equation. And here are the interative formulas that integrate the differetial equations with the Runge-Kutta formulas: ####\n",
    "$$S(n+1) = S + (k1s+2k2s+2k3s+k4s)/6$$\n",
    "$$k1s = -B*S*I/N$$\n",
    "$$k2s = -B/N*(S + k1s/2)*(I + k1i/2)$$\n",
    "$$k3s = -B/N*(S + k2s/2)*(I + k2i/2)$$\n",
    "$$k4s = -B/N*(S + k3s)*(I + k3i)$$\n",
    "$$I(n+1) = I + (k1i+2k2i+2k3i+k4i)/6$$\n",
    "$$k1i = B*S*I/N - g*I$$\n",
    "$$k2i = B*N*(S + k1s/2)*(I + k1i/2)-g*(I + k1i/2)$$\n",
    "$$k3i = B*N*(S + k2s/2)*(I + k2i/2)-g*(I + k2i/2)$$\n",
    "$$k4i = B*N*(S + k3s)*(I + k3i)-g*(I + k3i)$$\n",
    "#### There are two new variables here, B and g. B is the transmission rate, and g represents the recovery rate. A modest estimate of the COVID outbreak in the US gives us a B of .2, which is the probability that an individual that has come in contact with an infected individual will contract the virus. The purpose of social distancing strategies is to lower the value of B. The recovery rate (g) is inverse of of how long the virus lasts, which is around 14 days for COVID. This yields a value of g of 0.071. The program below solves and graphs the solutions to these differential equations using the 4th order Runge-Kutta Method. Running the cell below will ask the user for the values of SIR. Run the subsequent cells and it will generate the graph of the solutions. ####"
   ]
  },
  {
   "cell_type": "code",
   "execution_count": 2,
   "metadata": {},
   "outputs": [],
   "source": [
    "#imports\n",
    "from pylab import plot,xlabel,ylabel,show\n",
    "#inputs\n",
    "So = float(input(\"Enter the number of susceptible population: \"))\n",
    "Io = float(input(\"Enter the number of infected population: \"))\n",
    "Ro = float(input(\"Enter the number of recovered population: \"))\n",
    "#variables and lists\n",
    "B = .2\n",
    "g = 0.071\n",
    "n = So + Io + Ro\n",
    "S = list()\n",
    "I = list()\n",
    "R = list()\n",
    "S.append(So)\n",
    "I.append(Io)\n",
    "R.append(Ro)\n",
    "#Runge-Kutta loop\n",
    "for i in range(1,500,1):\n",
    "        k1s = -B*S[i-1]*I[i-1]/n\n",
    "        k1i = B*S[i-1]*I[i-1]/n - g*I[i-1]\n",
    "        k2s = (-B/n)*(S[i-1]+k1s/2)*(I[i-1]+k1i/2)\n",
    "        k2i = (B/n)*(S[i-1]+k1s/2)*(I[i-1]+k1i/2) - g*(I[i-1]+k1i/2)\n",
    "        k3s = (-B/n)*(S[i-1]+k2s/2)*(I[i-1]+k2i/2)\n",
    "        k3i = (B/n)*(S[i-1]+k2s/2)*(I[i-1]+k2i/2) - g*(I[i-1]+k2i/2)\n",
    "        k4s = (-B/n)*(S[i-1]+k3s)*(I[i-1]+k3i)\n",
    "        k4i = (B/n)*(S[i-1]+k3s)*(I[i-1]+k3i) - g*(I[i-1]+k3i)\n",
    "        s = S[i-1] + (k1s+2*k2s+2*k3s+k4s)/6\n",
    "        ni = I[i-1] + (k1i+2*k2i+2*k3i+k4i)/6\n",
    "        S.append(s)\n",
    "        I.append(ni)\n",
    "        r = n - S[i-1] - I[i-1]\n",
    "        R.append(r)\n",
    "#plot\n",
    "plot(range(0,500,1),S)\n",
    "plot(range(0,500,1),I)\n",
    "plot(range(0,500,1),R)\n",
    "xlabel(\"number of days\")\n",
    "ylabel(\"% of population\")\n",
    "show()"
   ]
  },
  {
   "cell_type": "markdown",
   "metadata": {},
   "source": [
    "# Takeaways #\n",
    "\n",
    "#### Here is what the projection projection for the state of NC looked like from day 1 (March 1, 2020) ####\n",
    "<img src=\"ncday1.png\">\n",
    "\n",
    "#### Which tells us that the peak of infected individuals should be after 130 days, which is July 9, 2020. Now here is the result of the algorithm two months later (May 1, 2020). ####\n",
    "<img src=\"ncmay1.png\">\n",
    "\n",
    "#### This new projection indicates the peak of infected individuals to take place after 70 days, which is July 10, 2020. This certainly speaks to the validity of the SIR model, since it is so close to the original projection. However, this also indicates a poor effort on any efforts in NC to slow the spread of the virus. You could use this program to test the numbers on any municipality or state to similarly compare whether they have made any significant progress in slowing the spread of the Coronavirus. ####\n"
   ]
  },
  {
   "cell_type": "code",
   "execution_count": null,
   "metadata": {},
   "outputs": [],
   "source": []
  }
 ],
 "metadata": {
  "kernelspec": {
   "display_name": "Python 3",
   "language": "python",
   "name": "python3"
  },
  "language_info": {
   "codemirror_mode": {
    "name": "ipython",
    "version": 3
   },
   "file_extension": ".py",
   "mimetype": "text/x-python",
   "name": "python",
   "nbconvert_exporter": "python",
   "pygments_lexer": "ipython3",
   "version": "3.7.3"
  }
 },
 "nbformat": 4,
 "nbformat_minor": 2
}
