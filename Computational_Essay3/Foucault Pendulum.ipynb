{
 "cells": [
  {
   "cell_type": "markdown",
   "metadata": {},
   "source": [
    " ## |                                        Foucault's Pendulum                                                                     |\n",
    "<div align=\"center\">\n",
    "   "
   ]
  },
  {
   "cell_type": "markdown",
   "metadata": {},
   "source": [
    "\n",
    "<img src=\"FPPic.jpg\" width=\"700\">"
   ]
  },
  {
   "cell_type": "markdown",
   "metadata": {},
   "source": [
    "## What is Foucault's Pendulum?\n",
    "\n",
    "### This historically famous experiment was originally developed by a self taught and self made mathematician and engineer Léon Foucault, born and raised in Paris France. It's original purpose was to provide a visual representation of the rotation of the Earth, as its plane of oscillation remains fixed while the Earth rotates under it Now it serves as an ornamental decoration is famous edifices across the world:\n",
    "\n",
    "\n",
    "\n",
    "### This code was created using a GlowScript IDE made to provide a visual demonstration of the experiment itself.\n",
    "\n",
    "### The link to the animation is embedded below #This will be embedded into the page soon# while the code used to run the animation is displayed underneath. While the animation is running, the scale can be used to adjust the representational latitude of the pendulum itself by increments of 5 degrees. 90 degrees would represent the pendulum's precession at the North Pole () while 0 degrees would represent it's precession at the equator. \n",
    "\n",
    "## About the animation:\n",
    "\n",
    "### Once the link to the animation is clicked you will be able to start the precession. You can control the latitude of the pendulum with a slider located directly below the animation window.\n",
    "\n",
    "### Below the scale is a live measurment of the sinusoidal movement of the pendulum, the momentum, as well as a reading of the rotation of the plate under it (representational of the Earth)."
   ]
  },
  {
   "cell_type": "markdown",
   "metadata": {},
   "source": [
    "https://www.glowscript.org/#/user/taylormcfadden2/folder/MyPrograms/program/Fp"
   ]
  },
  {
   "cell_type": "code",
   "execution_count": 1,
   "metadata": {},
   "outputs": [
    {
     "ename": "SyntaxError",
     "evalue": "keyword argument repeated (<ipython-input-1-2d48c78a8eea>, line 39)",
     "output_type": "error",
     "traceback": [
      "\u001b[1;36m  File \u001b[1;32m\"<ipython-input-1-2d48c78a8eea>\"\u001b[1;36m, line \u001b[1;32m39\u001b[0m\n\u001b[1;33m    sl = slider(min=0, max=90, step = 5, left = 200, length = 1000, length=150, bind=latitude)\u001b[0m\n\u001b[1;37m                                                                   ^\u001b[0m\n\u001b[1;31mSyntaxError\u001b[0m\u001b[1;31m:\u001b[0m keyword argument repeated\n"
     ]
    }
   ],
   "source": [
    "scene.title = \"Taylor McFadden's Model of The Foucault Pendulum\\n\"\n",
    "\n",
    "running = False\n",
    "\n",
    "def Run(b):\n",
    "    global running\n",
    "    running = not running\n",
    "    if running: b.text = \"Pause\"\n",
    "    else: b.text = \"Run\"\n",
    "\n",
    "button(text=\"Run\", pos=scene.title_anchor, bind=Run)\n",
    "## constants\n",
    "g = 9.8        # acceleration due to gravity\n",
    "time = 0           # start counting time at zero\n",
    "dt = .001   # time step\n",
    "\n",
    "theta1 = 0.174533 # starting angle in rads\n",
    "L1 = 0.67     # string length representing 67 meters of Foucault's pendulum\n",
    "m1 = 0.28  # ball mass representing 28 kilograms of Foucault's pendulum\n",
    "v1 = vector(0,0,0)  # initial velocity of pendulum (x,y,z) directions (0 m/s, 0 m/s, 0 m/s)\n",
    "p1 = m1*v1 # starting momentum\n",
    "k = 100000 #tension in string\n",
    "\n",
    "## create 'ceiling', ball, and string for pendulum model\n",
    "ceiling = box(pos=vector(0,1,0), size = vector(0, 0, 0))\n",
    "ball1 = sphere(pos=vector(ceiling.pos.x-L1*sin(theta1),ceiling.pos.y-L1*cos(theta1),0), radius=0.02, color=color.yellow)\n",
    "\n",
    "string1 = cylinder(pos=ceiling.pos, axis=ball1.pos-ceiling.pos, color=color.white, radius=0.002)\n",
    "plate = cylinder(pos = vec(ceiling.pos.x, ceiling.pos.y - 1.27, ceiling.pos.z), size = vec(0.01,0.4,0.4), axis= vec(0,-1,0), color = color.white)\n",
    "plate1 = compound([plate])\n",
    "plate1.texture = \"https://upload.wikimedia.org/wikipedia/commons/c/c3/August_2010_CME_SDO_Multi-Wavelength.jpg\"\n",
    "#Slider to change latitude (45 degrees to model Foucault pendulum in France)\n",
    "lat = 0\n",
    "scene.caption = \"\\n\"\n",
    "scene.append_to_caption(\"Latitude (90 = North Pole, 0 = equator):\\n\\n\")\n",
    "def latitude(s):\n",
    "    wt.text = '{:.0f}'.format(s.value)\n",
    "    lat = s.value\n",
    "sl = slider(min=0, max=90, step = 5, left = 200, length = 1000, length=150, bind=latitude)\n",
    "wt = wtext(text='{:.0f}'.format(sl.value))\n",
    "scene.append_to_caption(' degrees')\n",
    "\n",
    "#Graph\n",
    "gd0 = graph(x = 0, y = 0, width = 400, height = 200, xtitle = 'time(hr)', ytitle = 'plate rotation', xmax = 24, xmin = 0, ymax = 2, ymin = -2)\n",
    "position = series(graph = gd0, color = color.blue, label = \"position\")\n",
    "\n",
    "gd1 = graph(x = 0, y = 0, width = 400, height = 200, xtitle = 'time(hr)', ytitle = 'pendulum movement', xmax = 24, xmin = 0, ymax = 2, ymin = -2)\n",
    "pend = series(graph = gd1, color = color.red, label = 'pendulum')\n",
    "\n",
    "gd2 = graph(x = 0, y = 0, width = 400, height = 200, xtitle = 'time(hr)', ytitle = 'momentum (x dir)', xmax = 24, xmin = 0, ymax = 2, ymin = -2)\n",
    "momentum = series(graph = gd2, color = color.green, label = 'momentum')\n",
    "\n",
    "while g == 9.8:\n",
    "    rate(1000)\n",
    "    if(running):\n",
    "      # calc radial vectors and forces\n",
    "      r1 = vector(ball1.pos.x - ceiling.pos.x,ball1.pos.y - ceiling.pos.y,ball1.pos.z - ceiling.pos.z)\n",
    "      F1 = m1*vector(0,-g,0) - k*(r1 - L1*r1.norm())#norm =  vector #Force of gravity - tension\n",
    "\n",
    "      p1 += (F1*dt) #change in momentum of pendulum\n",
    "      ball1.pos.x = (ball1.pos + (p1/m1)*dt).x\n",
    "      ball1.pos.y = (ball1.pos + (p1/m1)*dt).y#change in position of pendulum\n",
    "      plate1.axis = vec(cos((2*pi*sin(sl.value)/24)*time),0,sin((2*pi*sin(sl.value)/24)*time))\n",
    "      position.plot(time,plate1.axis.z)\n",
    "      pend.plot(time, ball1.pos.x)\n",
    "      momentum.plot(time,p1.x)\n",
    "      string1.axis = ball1.pos - ceiling.pos #rotates string\n",
    "      time +=  dt\n",
    "      "
   ]
  },
  {
   "cell_type": "markdown",
   "metadata": {},
   "source": []
  },
  {
   "cell_type": "code",
   "execution_count": null,
   "metadata": {},
   "outputs": [],
   "source": []
  }
 ],
 "metadata": {
  "kernelspec": {
   "display_name": "Python 3",
   "language": "python",
   "name": "python3"
  },
  "language_info": {
   "codemirror_mode": {
    "name": "ipython",
    "version": 3
   },
   "file_extension": ".py",
   "mimetype": "text/x-python",
   "name": "python",
   "nbconvert_exporter": "python",
   "pygments_lexer": "ipython3",
   "version": "3.7.1"
  }
 },
 "nbformat": 4,
 "nbformat_minor": 4
}
