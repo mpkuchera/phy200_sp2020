{
 "cells": [
  {
   "cell_type": "markdown",
   "metadata": {},
   "source": [
    "<h1><center>Can the skier manage the slope?</center></h1>\n",
    "\n",
    "###### Computational Physics Final Project\n",
    "Author: Louisa Winkler\n",
    "\n",
    "Professor: Dr. Kuchera\n"
   ]
  },
  {
   "cell_type": "code",
   "execution_count": 30,
   "metadata": {},
   "outputs": [
    {
     "data": {
      "text/html": [
       "<table><tr><td><img src='downhill.jpg' style='width: 500px;'></td><td><img src='uphill.jpg'></td></tr></table>"
      ],
      "text/plain": [
       "<IPython.core.display.HTML object>"
      ]
     },
     "metadata": {},
     "output_type": "display_data"
    }
   ],
   "source": [
    "from IPython.display import HTML, display\n",
    "display(HTML(\"<table><tr><td><img src='downhill.jpg' style='width: 500px;'></td><td><img src='uphill.jpg'></td></tr></table>\"))"
   ]
  },
  {
   "cell_type": "markdown",
   "metadata": {},
   "source": [
    "### Introduction\n",
    "Skiing is one of my favorite sports, which is why I choose to do my final project related to this alpine sport. Ski slopes have very different shapes. The slope can have steep parts or even parts where you must go uphill a little. I have always asked myself, how fast do I have to be to make it up the hill. And assuming that I only go straight, what kind of slope shapes are doable to ski on.  I will animate the movement of a skier. The start velocity is determined by the user.  "
   ]
  },
  {
   "cell_type": "markdown",
   "metadata": {},
   "source": [
    "### Can the kids make it up the hill?\n",
    "In this essay we will compute whether a skier can slide the entire slope. We will compute the skier's speed and animate its performance on the slope. Here we see how me and my sister perform on a ski slope without thinking to much about physics. "
   ]
  },
  {
   "cell_type": "code",
   "execution_count": 9,
   "metadata": {
    "scrolled": true
   },
   "outputs": [
    {
     "data": {
      "text/html": [
       "<video src=\"warth_video.mp4\" controls  width=\"500\" >\n",
       "      Your browser does not support the <code>video</code> element.\n",
       "    </video>"
      ],
      "text/plain": [
       "<IPython.core.display.Video object>"
      ]
     },
     "execution_count": 9,
     "metadata": {},
     "output_type": "execute_result"
    }
   ],
   "source": [
    "from IPython.display import Video\n",
    "Video(\"warth_video.mp4\", width = 500)"
   ]
  },
  {
   "cell_type": "markdown",
   "metadata": {},
   "source": [
    "### Forces that contribute to the skier's performance\n",
    "The factors that influence forces acting on the skier are air-resistance, friction with snow and of course gravitation. In the grafic we see the geometry of the skier on the slope. \n",
    "\n",
    "\n",
    "<img src=\"model_skier.png\" width=\"240\" height=\"240\" align=\"center\"/>\n",
    "\n",
    "1. **Friction force**\n",
    "$$\n",
    "\\begin{equation}\n",
    "   F_{r}= \\mu * F_{N} \\text{ with } F_N=cos⁡(\\theta)*m*g \n",
    "\\end{equation}\n",
    "$$\n",
    "\n",
    "\n",
    "Where µ is the kinetic friction coefficient. For a decent snow condition: $\\mu = 0.05$\n",
    "\n",
    "2. **Air resistance**:\n",
    "$$\n",
    "\\begin{equation}\n",
    "F_{drag}=\\frac{1}{2}*\\rho*C*A*v^2 \n",
    "\\end{equation}\n",
    "$$\n",
    "\n",
    "Where rho is the air density: $\\rho = 1.225\\frac{kg}{m^3}$,  C is the drag coefficient: $C = 1.1$ and A is the surface area of the skier: $A = 0.5m$\n",
    "\n",
    "3. **Gravitation force**\n",
    "$$\n",
    "\\begin{equation}\n",
    "F_{x}=sin(\\theta) * m*g\n",
    "\\end{equation}\n",
    "$$\n",
    "\n",
    "The angle theta depends on the shape of the slope and can be calculated with its derivative. \n",
    "The velocity changes over time and can be calculated with Newton’s law: \n",
    "\n",
    "$$\n",
    "\\begin{equation}\n",
    "F_{x} - F_{r} - F_{drag}=m*a=m*\\frac{dv}{dt}=m*\\frac{v_{i+1}-v_{i}}{Δt}\n",
    "\\end{equation}\n",
    "$$\n",
    "\n",
    "\n",
    "To impliment this equations in a python code, we solve the differential equation: \n",
    "\n",
    "$$\n",
    "\\begin{equation}\n",
    "v_{i+1}=v_{i}+Δt (sin⁡(θ)*g-\\frac{μF_N}{m}-\\frac{1}{2m}*ρ*A*c*v_{i}^2 )\n",
    "\\end{equation}\n",
    "$$"
   ]
  },
  {
   "cell_type": "markdown",
   "metadata": {},
   "source": [
    "### The Test Slope\n",
    "Here is the slope we want to test the skier on. We can vary the intital speed. Three examples with different speeds will follow. \n"
   ]
  },
  {
   "cell_type": "code",
   "execution_count": 1,
   "metadata": {},
   "outputs": [
    {
     "data": {
      "text/html": [
       "<div id=\"glowscript\" class=\"glowscript\"></div>"
      ],
      "text/plain": [
       "<IPython.core.display.HTML object>"
      ]
     },
     "metadata": {},
     "output_type": "display_data"
    },
    {
     "data": {
      "application/javascript": [
       "if (typeof Jupyter !== \"undefined\") { window.__context = { glowscript_container: $(\"#glowscript\").removeAttr(\"id\")};}else{ element.textContent = ' ';}"
      ],
      "text/plain": [
       "<IPython.core.display.Javascript object>"
      ]
     },
     "metadata": {},
     "output_type": "display_data"
    },
    {
     "data": {
      "image/png": "[encoded data removed]",
      "text/plain": [
       "<Figure size 432x288 with 1 Axes>"
      ]
     },
     "metadata": {
      "needs_background": "light"
     },
     "output_type": "display_data"
    }
   ],
   "source": [
    "from code_skier_class import Skierc\n",
    "from pylab import show, plot, xlabel, ylabel, title\n",
    "\n",
    "sk = Skierc(3)\n",
    "plot(sk.plot_slope()[0], sk.plot_slope()[1])\n",
    "title(\"The Slope for our skier\")\n",
    "show()"
   ]
  },
  {
   "cell_type": "markdown",
   "metadata": {},
   "source": [
    "### The Computation Method\n",
    "\n",
    "To compute the skier's velocity we make use of the Runge Kutta method. The method is applied in the code below. "
   ]
  },
  {
   "cell_type": "code",
   "execution_count": null,
   "metadata": {},
   "outputs": [],
   "source": [
    "def runge_kutta(self):\n",
    "        \"\"\" function applies RK4 \n",
    "            Return: xpoints: list for x points of the skier\n",
    "                    foffxpoints:list for y points of the skier\n",
    "                    vpython will use the two lists to animate the skier \n",
    "                    on the slope\n",
    "        \"\"\"\n",
    "        \n",
    "        tpoints = []        # list for time points \n",
    "        vpoints = []        # list for velocity points\n",
    "        xpoints = []        # list for x points\n",
    "        foffxpoints = []    # list for y points of the skier\n",
    "        vstart = self.vo    #vstart is start velocity entered by the user\n",
    "        xstart = interval1  #start position x\n",
    "        \n",
    "        #solve DGL with Runge Kutta\n",
    "        for t in np.arange(0,10000,h): \n",
    "            tpoints.append(t)\n",
    "            vpoints.append(vstart)\n",
    "            xpoints.append(xstart)\n",
    "            foffxpoints.append(self.f(xstart))\n",
    "            # calculate Runge kutta coefficients \n",
    "            k1 = self.v2(xstart, vstart, t, vstart, t)\n",
    "            k2 = self.v2(xstart, vstart, t,  vstart + 0.5*k1, t+0.5*h)\n",
    "            k3 = self.v2(xstart, vstart, t,  vstart + 0.5*k2, t+0.5*h)\n",
    "            k4 = self.v2(xstart, vstart, t, vstart + k3, t+h)\n",
    "            \n",
    "            vnext = (k1+2*k2+2*k3+k4)/6\n",
    "        \n",
    "            #stop when v becomes zero (skier stops)\n",
    "            if vnext < 0: \n",
    "                print('The skier stops at position x = ', format(xstart, '.2f'))\n",
    "                break\n",
    "            \n",
    "            #traveled distance\n",
    "            d = (vstart + vnext)/2 * h\n",
    "            #convert with angle to next position x \n",
    "            dx = math.cos(self.theta(xstart))*d\n",
    "            # the next position x ist the previous one with the traveled one \n",
    "            # under average velocity in a time h\n",
    "            xnext = xstart + dx\n",
    "            \n",
    "            # if the skier does not stop on the slope, the slope is manageable\n",
    "            if xnext >= interval2:\n",
    "                print('The skier can manage the slope in the given interval')\n",
    "                break \n",
    "        \n",
    "            # define for next loop iteration the next velocity and position \n",
    "            # become the start values\n",
    "            vstart = vnext\n",
    "            xstart = xnext\n",
    "            \n",
    "        # determine the maximal speed\n",
    "        v_max = format(max(vpoints), '.2f')\n",
    "        print('the skier reaches a maximal speed of ', v_max, 'm/s')\n",
    "        \n",
    "        return xpoints, foffxpoints"
   ]
  },
  {
   "cell_type": "markdown",
   "metadata": {},
   "source": [
    "#### 1. Example:\n",
    "We choose an initial velocity of 5m/s and watch the skier on the slope below. "
   ]
  },
  {
   "cell_type": "code",
   "execution_count": 2,
   "metadata": {},
   "outputs": [
    {
     "name": "stdout",
     "output_type": "stream",
     "text": [
      "The skier stops at position x =  13.95\n",
      "the skier reaches a maximal speed of  16.29 m/s\n"
     ]
    },
    {
     "data": {
      "text/html": [
       "<div id=\"glowscript\" class=\"glowscript\"></div>"
      ],
      "text/plain": [
       "<IPython.core.display.HTML object>"
      ]
     },
     "metadata": {},
     "output_type": "display_data"
    },
    {
     "data": {
      "application/javascript": [
       "if (typeof Jupyter !== \"undefined\") { window.__context = { glowscript_container: $(\"#glowscript\").removeAttr(\"id\")};}else{ element.textContent = ' ';}"
      ],
      "text/plain": [
       "<IPython.core.display.Javascript object>"
      ]
     },
     "metadata": {},
     "output_type": "display_data"
    },
    {
     "data": {
      "application/javascript": [
       "if (typeof Jupyter !== \"undefined\") {require.undef(\"nbextensions/vpython_libraries/glow.min\");}else{element.textContent = ' ';}"
      ],
      "text/plain": [
       "<IPython.core.display.Javascript object>"
      ]
     },
     "metadata": {},
     "output_type": "display_data"
    },
    {
     "data": {
      "application/javascript": [
       "if (typeof Jupyter !== \"undefined\") {require.undef(\"nbextensions/vpython_libraries/glowcomm\");}else{element.textContent = ' ';}"
      ],
      "text/plain": [
       "<IPython.core.display.Javascript object>"
      ]
     },
     "metadata": {},
     "output_type": "display_data"
    },
    {
     "data": {
      "application/javascript": [
       "if (typeof Jupyter !== \"undefined\") {require.undef(\"nbextensions/vpython_libraries/jquery-ui.custom.min\");}else{element.textContent = ' ';}"
      ],
      "text/plain": [
       "<IPython.core.display.Javascript object>"
      ]
     },
     "metadata": {},
     "output_type": "display_data"
    },
    {
     "data": {
      "application/javascript": [
       "if (typeof Jupyter !== \"undefined\") {require([\"nbextensions/vpython_libraries/glow.min\"], function(){console.log(\"GLOW LOADED\");});}else{element.textContent = ' ';}"
      ],
      "text/plain": [
       "<IPython.core.display.Javascript object>"
      ]
     },
     "metadata": {},
     "output_type": "display_data"
    },
    {
     "data": {
      "application/javascript": [
       "if (typeof Jupyter !== \"undefined\") {require([\"nbextensions/vpython_libraries/glowcomm\"], function(){console.log(\"GLOWCOMM LOADED\");});}else{element.textContent = ' ';}"
      ],
      "text/plain": [
       "<IPython.core.display.Javascript object>"
      ]
     },
     "metadata": {},
     "output_type": "display_data"
    },
    {
     "data": {
      "application/javascript": [
       "if (typeof Jupyter !== \"undefined\") {require([\"nbextensions/vpython_libraries/jquery-ui.custom.min\"], function(){console.log(\"JQUERY LOADED\");});}else{element.textContent = ' ';}"
      ],
      "text/plain": [
       "<IPython.core.display.Javascript object>"
      ]
     },
     "metadata": {},
     "output_type": "display_data"
    }
   ],
   "source": [
    "\"\"\"\"Show the skier sliding the slope, example fast\"\"\"\n",
    "import vpython as vp\n",
    "skfast = Skierc(10)\n",
    "skfast.animation()\n"
   ]
  },
  {
   "cell_type": "markdown",
   "metadata": {},
   "source": [
    "#### 2. Example\n",
    "In the second example we lower the intial velocity to 3m/s. The skier is animated in the cell below. We see that friction and drag stop the skier after before he can make it up the third hill. "
   ]
  },
  {
   "cell_type": "code",
   "execution_count": 3,
   "metadata": {},
   "outputs": [
    {
     "name": "stdout",
     "output_type": "stream",
     "text": [
      "The skier stops at possition x =  19\n"
     ]
    },
    {
     "data": {
      "text/html": [
       "<div id=\"glowscript\" class=\"glowscript\"></div>"
      ],
      "text/plain": [
       "<IPython.core.display.HTML object>"
      ]
     },
     "metadata": {},
     "output_type": "display_data"
    },
    {
     "data": {
      "application/javascript": [
       "if (typeof Jupyter !== \"undefined\") { window.__context = { glowscript_container: $(\"#glowscript\").removeAttr(\"id\")};}else{ element.textContent = ' ';}"
      ],
      "text/plain": [
       "<IPython.core.display.Javascript object>"
      ]
     },
     "metadata": {},
     "output_type": "display_data"
    }
   ],
   "source": [
    "skslow = Skierc(3)\n",
    "skslow.animation()"
   ]
  },
  {
   "cell_type": "markdown",
   "metadata": {},
   "source": [
    "#### 3. Example\n",
    "In this example we choose a very high initial velocity. We can see that the skslope is managable for this skier. He is fast enough to make it up the last hill in our example interval. "
   ]
  },
  {
   "cell_type": "code",
   "execution_count": 3,
   "metadata": {},
   "outputs": [
    {
     "name": "stdout",
     "output_type": "stream",
     "text": [
      "The skier can manage the slope in the given interval\n",
      "the skier reaches a maximal speed of  24.10 m/s\n"
     ]
    },
    {
     "data": {
      "text/html": [
       "<div id=\"glowscript\" class=\"glowscript\"></div>"
      ],
      "text/plain": [
       "<IPython.core.display.HTML object>"
      ]
     },
     "metadata": {},
     "output_type": "display_data"
    },
    {
     "data": {
      "application/javascript": [
       "if (typeof Jupyter !== \"undefined\") { window.__context = { glowscript_container: $(\"#glowscript\").removeAttr(\"id\")};}else{ element.textContent = ' ';}"
      ],
      "text/plain": [
       "<IPython.core.display.Javascript object>"
      ]
     },
     "metadata": {},
     "output_type": "display_data"
    }
   ],
   "source": [
    "sk_professional = Skierc(20)\n",
    "sk_professional.animation()"
   ]
  },
  {
   "cell_type": "markdown",
   "metadata": {},
   "source": [
    "#### 4. Example\n",
    "Now it is your turn to define the start velocity! Run the cell, enter a start velocity and observe whether the skier can slide the entire slope.   "
   ]
  },
  {
   "cell_type": "code",
   "execution_count": null,
   "metadata": {},
   "outputs": [],
   "source": [
    "v_start = int(input('Enter the skier\\'s start speed'))\n",
    "your_skier = Skierc(v_start)\n",
    "your_skier.animation()"
   ]
  },
  {
   "cell_type": "markdown",
   "metadata": {},
   "source": [
    "### Conclusion: \n",
    "With the python programm we are able to determine whether a skier can slide the entire slope. The animation shows us the position at which the skier comes to a stop.  It is also interesting to see the skier's maximal speed. "
   ]
  },
  {
   "cell_type": "code",
   "execution_count": null,
   "metadata": {},
   "outputs": [],
   "source": []
  }
 ],
 "metadata": {
  "kernelspec": {
   "display_name": "Python 3",
   "language": "python",
   "name": "python3"
  },
  "language_info": {
   "codemirror_mode": {
    "name": "ipython",
    "version": 3
   },
   "file_extension": ".py",
   "mimetype": "text/x-python",
   "name": "python",
   "nbconvert_exporter": "python",
   "pygments_lexer": "ipython3",
   "version": "3.6.10"
  }
 },
 "nbformat": 4,
 "nbformat_minor": 4
}
