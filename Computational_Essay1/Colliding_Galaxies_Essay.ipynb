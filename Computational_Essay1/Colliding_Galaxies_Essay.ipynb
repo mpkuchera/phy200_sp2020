{
 "cells": [
  {
   "cell_type": "markdown",
   "metadata": {},
   "source": [
    "# <center>Do You Fear the Inevitable?</center>\n",
    "<center>Analyzing the Behavior of Two Colliding Galaxies.</center>"
   ]
  },
  {
   "cell_type": "markdown",
   "metadata": {},
   "source": [
    "<img src=\"galaxies colliding.jpg\" style = \"width:600px;height:300px\"/>"
   ]
  },
  {
   "cell_type": "markdown",
   "metadata": {},
   "source": [
    "Many people fear the unknown. To try to relieve this fear, people often turn to facts: constants that remain in their life regardless of the circumstances.  The one constant astrophysicists can rely on is the gravitational pull between objects.  This force affects everything, from how we walk on the earth to how the universe is kept together.  But could the one force that we rely on be the very thing that causes our inevitable doom?  What happens when two galaxies are under the gravitational force?  How will that impact our future?"
   ]
  },
  {
   "cell_type": "markdown",
   "metadata": {},
   "source": [
    "### Gravity\n",
    "Any object with mass has a gravitation pull acting on it.  Gravitational pull results when two objects are attracted to each other.  When one object, or in this case galaxy, has a bigger mass, then the galaxy would have a greater gravitational pull.  Therefore, there is a correlation between gravitational pull and the mass of the galaxy.  The galaxy with the smaller mass will be attracted and pulled toward the galaxy with the higher gravitational force.\n",
    "Using the following equation, we can caluclate the gravitational force of one galaxy to the other galaxy.\n",
    "\n",
    "\\begin{equation*}\n",
    "F =  \\frac{GM_1m_2}{(r^2)}\n",
    "\\end{equation*}\n"
   ]
  },
  {
   "cell_type": "markdown",
   "metadata": {},
   "source": [
    "In this equation, $G$ is the gravitational constant in Astronomical units, $M_1$ is the mass of the Milky Way galaxy, $m_2$ is the mass of the Andromeda galaxy, and $r^2$ is $(x^2 + y^2)$. "
   ]
  },
  {
   "cell_type": "markdown",
   "metadata": {},
   "source": [
    "### Galaxies\n",
    "Spiral galaxies have a flattened disk shape where the stars orbit in the same direction as\n",
    "the center. When two galaxies start orbiting near each other, they begin to feel the gravitational pull from the other galaxy and will begin to be drawn near the other galaxy until colliding with\n",
    "it. By coding two galaxies colliding, I can get a better understanding of how the behavior of the galaxies change while colliding, and how the behavior is impacted when the initial conditions are changed. The two galaxies I have chosen to simulate are the Milky Way and the Andromeda galaxies. The Milky Way has a mass of 5.4 x 10^11 AU $(M_1)$, and the Andromeda galaxy has a mass of 12.3 x 10^11 AU $(M_2)$.  These are my default values for the two masses of the galaxies.  But, the user has the option of choosing their own masses in AU units."
   ]
  },
  {
   "cell_type": "code",
   "execution_count": null,
   "metadata": {},
   "outputs": [],
   "source": [
    "if j == \"No\": #if the user said 'No', then the following code will run\n",
    "    M_1 = 5.4  #predetermined varible for the Milky Way galaxy, in e11 Astronomical units\n",
    "    M_2 = 12.3 #predetermined variable for the Andromeda galaxy, in e11 Astronomical units\n",
    "else: #if the user said anything other than 'No', then the following code will run\n",
    "        M_1 = float(input(\"Please enter a mass for the first galaxy [e11 AU units]: \")) #Asking for variable M_1\n",
    "        M_2 = float(input(\"Please enter a mass for the second galaxy[e11 AU units]: \")) #Asking for variable M_2"
   ]
  },
  {
   "cell_type": "markdown",
   "metadata": {},
   "source": [
    "### Runge-Kutta Method\n",
    "\n",
    "Runge-Kutta is a mathematical method to solve second order, differential equations.\n",
    "\n",
    "I used the Runge-Kutta method to solve for the acceleration of the two galaxies as they feel the force of the gravitational pull.  Using this method, I was able to find an accurate position of the two galaxies and plotted them to show how the behavior changes as the two galaxies draw near each other.\n",
    "\n",
    "Below is my defined f(r) function that I used in my Runge-Kutta method to solve my second order, differential function for the behavior of the two galaxies. In this function, I defined the force components for the x and y direction of the two galaxies and their acceleration components. Then, the function returns an array for the velocity and acceleration of the two galaxies in the x and y directions."
   ]
  },
  {
   "cell_type": "code",
   "execution_count": null,
   "metadata": {},
   "outputs": [],
   "source": [
    "def f(r):\n",
    "    \n",
    "    G = 4*np.pi**2 #Gravitational Constant in AU units\n",
    "    \n",
    "    #distance components for the galaxies\n",
    "    x1 = 0 - r[0]\n",
    "    y1 = 0 - r[1]\n",
    "    x2 = 0 - r[4]\n",
    "    y2 = 0 - r[5]\n",
    "    s = x1**2 + y1**2 +x2**2 + y2**2 -2*np.sqrt(x1**2 + y1**2)*np.cos(90*np.pi/180) #distance between the two galaxies\n",
    "    \n",
    "    #Force components\n",
    "    FAx = x1 * G * M_1 * M_2 / (np.sqrt(s))**3 #Calculating the Force of the Milky Way in the x direction\n",
    "    FAy = y1 * G * M_1 * M_2 / (np.sqrt(s))**3 #Calculating the Force of the Milky Way in the y direction\n",
    "    BAx = x2 * G * M_1 * M_2 / (np.sqrt(s))**3 #Calculating the Force of the Andromeda Galaxy in the x direction\n",
    "    BAy = y2 * G * M_1 * M_2 / (np.sqrt(s))**3 #Calculating the Force of the Andromeda Galaxy in the y direction\n",
    "    \n",
    "    \n",
    "    #Acceleration\n",
    "    aAx = FAx / M_1 #Calculating the Acceleration of the Andromeda Galaxy in the x direction\n",
    "    aAy = FAy / M_1 #Calculating the Acceleration of the Milky Way in the y direction\n",
    "    aBx = BAx / M_2 #Calculating the Acceleration of the Andromeda Galaxy in the x direction\n",
    "    aBy = BAy / M_2 #Calculating the Acceleration of the Andromeda Galaxy in the y direction\n",
    "    \n",
    "    \n",
    "    #defining variable in the array\n",
    "    Avx = r[2] \n",
    "    Avy = r[3]\n",
    "    Bvx = r[6]\n",
    "    Bvy = r[7]\n",
    "    \n",
    "    return np.array([Avx, Avy, aAx, aAy, Bvx, Bvy, aBx, aBy],float)"
   ]
  },
  {
   "cell_type": "markdown",
   "metadata": {},
   "source": [
    "### Relative Motion\n",
    "The equation below calculates the relative motion of the galaxies.  Using this equation, we can see the behavior of the two galaxies as they collide into each other.  \n",
    "\n",
    "\\begin{equation*}\n",
    "\\frac{d^2{\\mathbf{r}}}{dt^2} = -(M_1 + M_2)\\frac{\\mathbf{r}}{r^3}\n",
    "\\end{equation*}\n",
    "\n",
    "I used the Runge-Kutta method to solve for the second order differential equation.  Using fourth order Runge-Kutta, I was able to graph the behavior of the two galaxies as they collide into each other.\n",
    "\n",
    "Below is my rK4 function that uses the Runge-Kutta method to plot the changing positions of the two galaxies in the x and y directions.This function takes in the array created in the function above (f(r) function).The function returns Ax, Ay, Bx, By (position of the two galaxies) as lists then plots them."
   ]
  },
  {
   "cell_type": "code",
   "execution_count": null,
   "metadata": {},
   "outputs": [],
   "source": [
    "def rK4(): #fourth order Runge-Kutta method\n",
    "    r = np.array([0, 1, 6.27, 0, 1, 0, 0, -6.27], float)\n",
    "    a = 0 #begining value of the Runge-Kutta\n",
    "    b = 1 #ending value of the Runge-Kutta\n",
    "    N = 10000 #number of slices taken\n",
    "    h = (b - a) / N\n",
    "    Ax = [] #x position of the Milky Way galaxy as a list\n",
    "    Ay = [] #y position of the Milky Way galaxy as a list\n",
    "    Bx = [] #x position of the Andromeda galaxy as a list\n",
    "    By = [] #y position of the Andromeda galaxy as a list\n",
    "    tpoints = np.arange(a,b,h)\n",
    "    for t in tpoints: #Runge-Kutta method\n",
    "        k1 = h*f(r)\n",
    "        k2 = h*f(r + 0.5*k1)\n",
    "        k3 = h*f(r + 0.5*k2)\n",
    "        k4 = h*f(r + 0.5*k3)\n",
    "        r += (k1+k2+k3+k4)/6\n",
    "        Ax.append(r[0]) #the following 4 lines appends the new position values to the previously determined lists\n",
    "        Ay.append(r[1])\n",
    "        Bx.append(r[4])\n",
    "        By.append(r[5])\n",
    "        \n",
    "    #plotting the colliding galaxies\n",
    "    plt.plot(Ax,Ay, color = \"purple\") #plot for the Milky Way galaxy\n",
    "    plt.plot(Bx,By, color = \"blue\") #plot for the Andromeda galaxy\n",
    "    plt.xlabel(\"Distance in the x direction\")\n",
    "    plt.ylabel(\"Distance in the y direction\")\n",
    "    plt.title(\"The Positions of the Colliding Galaxies\")\n",
    "    plt.axis('equal') #equalizing the axises"
   ]
  },
  {
   "cell_type": "markdown",
   "metadata": {},
   "source": [
    "### Plot Results\n",
    "\n",
    "<img src=\"Colliding_Galaxies_Graph.png\" style = \"width:350;height:400px\"/>"
   ]
  },
  {
   "cell_type": "markdown",
   "metadata": {},
   "source": [
    "### Interpretation of Results\n",
    "\n",
    "If the user runs the program with various masses for the two galaxies, they will see that the graph changes depending on how big or how small the masses are.  This shows the correlation between the mass size and the behavior of the two galaxies as they collide.  Therefore, the code further proves that mass is directly related to the force felt by the two galaxies.\n",
    "\n",
    "The coded graph above portrays the changing position of the two galaxies in both the x and y direction. This graph illustrates how two galaxies will interact with each other. Additionally, the interaction of the two functions show when the two galaxes are in the same position. Further, this allows users to determinw when the galaxies will interact with each other."
   ]
  },
  {
   "cell_type": "markdown",
   "metadata": {},
   "source": [
    "### Conclusion\n",
    "\n",
    "These results reveal the behavior of the two galaxies is definitely impacted by their gravitational pull. Although coding the collision of two galaxies can help users better understand the behavior of the two galaxies, this knowledge cannot save them from the inevitable.\n",
    "\n",
    "\n",
    "Some take aways from this project should be the method of solving second order differential equations, how the changing mass of the two galaxies will impact the gravitational force, and when the two galaxies will begin to interact and merge with each other.  Solving the second order differential equation in combination with the gravitational force equation, allowed me to graph the behavior of the two galaxies as they are forced towards each other.\n"
   ]
  },
  {
   "cell_type": "markdown",
   "metadata": {},
   "source": [
    "### References"
   ]
  },
  {
   "cell_type": "markdown",
   "metadata": {},
   "source": [
    "[1] N. W. Evans, M. I. Wilkinson, The mass of the Andromeda galaxy, Monthly Notices of the Royal Astronomical Society, Volume 316, Issue 4, August 2000, Pages 929–942, \n",
    "doi.org/10.1046/j.1365-8711.2000.03645.x\n",
    "\n",
    "\n",
    "[2] Kochanek, and Christopher S. “The Mass of the Milky Way Galaxy.” ArXiv.org, 16 May 1995, arxiv.org/abs/astro-ph/9505068."
   ]
  },
  {
   "cell_type": "code",
   "execution_count": null,
   "metadata": {},
   "outputs": [],
   "source": []
  }
 ],
 "metadata": {
  "kernelspec": {
   "display_name": "Python 3",
   "language": "python",
   "name": "python3"
  },
  "language_info": {
   "codemirror_mode": {
    "name": "ipython",
    "version": 3
   },
   "file_extension": ".py",
   "mimetype": "text/x-python",
   "name": "python",
   "nbconvert_exporter": "python",
   "pygments_lexer": "ipython3",
   "version": "3.6.10"
  }
 },
 "nbformat": 4,
 "nbformat_minor": 2
}
