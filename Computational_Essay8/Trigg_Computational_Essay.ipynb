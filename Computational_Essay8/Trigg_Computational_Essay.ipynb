{
 "cells": [
  {
   "cell_type": "markdown",
   "metadata": {},
   "source": [
    "<h1><center>Efficiently Shooting A Basketball!</center></h1>\n",
    "<h1><center>Calculating the lowest initial velocity to shoot a free throw</center></h1>"
   ]
  },
  {
   "cell_type": "markdown",
   "metadata": {},
   "source": [
    "<img src=\"curry.jpg\">"
   ]
  },
  {
   "cell_type": "markdown",
   "metadata": {},
   "source": [
    "### Tired of airballing from the freethrow line? Want to improve your shooting average from the freethrow line? Have you ever wanted to know the physics behind the trajectory of a basketball going through the air?\n",
    "\n",
    "Using known constants relevant to the trajectory of the shooting of a basketball, we can calculate the lowest initial velocity needed to score from the freethrow line."
   ]
  },
  {
   "cell_type": "markdown",
   "metadata": {},
   "source": [
    "# Abstract:\n",
    "\n",
    "The purpose of this project is to help people understand the physics of the trajectory of a basketball traveling through the air. Hopefully some people reading this project will implement some of the physics into their shot and improve their shooting average from the freethrow line. This project is only evaluating a shot that does not bounce off the rim nor the backboard, meaning the basketball will travel cleanly through the net so you can hear the swish widely known to all basketball fans. We will take into account the drag or air resistance between the basketball and the Earth's atmosphere, as well as gravity. We also used the fourth-order Runge-Kutta method to derive the lowest initial velocity needed to score from the freethrow line."
   ]
  },
  {
   "cell_type": "code",
   "execution_count": 47,
   "metadata": {},
   "outputs": [],
   "source": [
    "from math import *\n",
    "from numpy import arange\n",
    "from pylab import plot,xlabel,ylabel,show"
   ]
  },
  {
   "cell_type": "markdown",
   "metadata": {},
   "source": [
    "## Calculating The kd Coefficient:\n",
    "\n",
    "This coefficent is important regarding the effect the drag or air resistance has on the ball. "
   ]
  },
  {
   "cell_type": "markdown",
   "metadata": {},
   "source": [
    "$$kd=\\frac{Cd*p*a}{2*m}$$"
   ]
  },
  {
   "cell_type": "code",
   "execution_count": 48,
   "metadata": {},
   "outputs": [
    {
     "name": "stdout",
     "output_type": "stream",
     "text": [
      "The kd coefficient is 0.007110975609756097\n"
     ]
    }
   ],
   "source": [
    "#Calculating the kd coefficient\n",
    "Cd=.5 #Drag coefficient\n",
    "A=.49 #Cross sectional area of the basketball ft**2\n",
    "m=.041 #Mass of basetball in slugs\n",
    "p=2.38*10**(-3) #Atmospheric density slugs/ft**3\n",
    "kd=Cd*p*A/2/m    #1/ft\n",
    "print(\"The kd coefficient is\",kd)"
   ]
  },
  {
   "cell_type": "markdown",
   "metadata": {},
   "source": [
    "## Calculating The Perfect Angle The Basketball Enters The Hoop:\n",
    "\n",
    "θ will be the angle the basketball enters the hoop. We know the diameter of a basketball is .79 ft, and the diameter of the hoop is 1.5 ft. Knowing this, we can use these numbers to calculate the angle the basketball should enter the hoop from. The equation is \n",
    "\n",
    "$$θ=arccos(\\frac{basketball}{hoop})$$"
   ]
  },
  {
   "cell_type": "code",
   "execution_count": 49,
   "metadata": {},
   "outputs": [
    {
     "name": "stdout",
     "output_type": "stream",
     "text": [
      "The best angle θ is 58.21948965487635 degrees\n"
     ]
    }
   ],
   "source": [
    "#Calculating the perfect angle the ball enters the hoop\n",
    "bball=.79 #Diameter of a basketball ft\n",
    "hoop=1.5 #Diameter of the hoop ft\n",
    "radians=  acos(bball/hoop) #58.2 arccos(bball/hoop) degrees\n",
    "θ=radians*180/pi\n",
    "print(\"The best angle θ is\", θ, \"degrees\")"
   ]
  },
  {
   "cell_type": "markdown",
   "metadata": {},
   "source": [
    "This angle maximizes the utility of the initial velocity to it's fullest potential. The more vertical a ball enters the hoop, the greater the initial velocity is needed to increase the trajectory of the basketball. With this angle, it will not touch the rim, but it barely misses it. "
   ]
  },
  {
   "cell_type": "markdown",
   "metadata": {},
   "source": [
    "## Initial Conditions:\n"
   ]
  },
  {
   "cell_type": "code",
   "execution_count": 50,
   "metadata": {},
   "outputs": [],
   "source": [
    "#Distance between free throw line and hoop horizontally\n",
    "ftx=13 #ft\n",
    "\n",
    "#Distance the basketball travels vertically\n",
    "fty=10-6 # 4ft\n",
    "\n",
    "#Gravitational constant\n",
    "g=32.2 #ft/s**2\n",
    "vx=0 #velocity on x-axis\n",
    "vy=0 #velocity on y-axis\n",
    "v=sqrt(vx**2 + vy**2) #Actual velocity\n",
    "dvx=kd*v*vx #Acceleration on x-axis\n",
    "dvy=kd*v*vy-g #Acceleration on y-axis\n"
   ]
  },
  {
   "cell_type": "markdown",
   "metadata": {},
   "source": [
    "## Defining Our Functions:"
   ]
  },
  {
   "cell_type": "code",
   "execution_count": 51,
   "metadata": {},
   "outputs": [],
   "source": [
    "def f(vy,t):\n",
    "    return  6+vy*t-.5*g**2"
   ]
  },
  {
   "cell_type": "markdown",
   "metadata": {},
   "source": [
    "Our function f(vy,t) is defining the y-coordinate of the trajectory of the basketball. vy is the velocity in the y direction, while t is time."
   ]
  },
  {
   "cell_type": "markdown",
   "metadata": {},
   "source": [
    "## Fourth-Order Runge-Kutta:"
   ]
  },
  {
   "cell_type": "code",
   "execution_count": 52,
   "metadata": {},
   "outputs": [
    {
     "data": {
      "image/png": "[encoded data removed]",
      "text/plain": [
       "<Figure size 432x288 with 1 Axes>"
      ]
     },
     "metadata": {
      "needs_background": "light"
     },
     "output_type": "display_data"
    }
   ],
   "source": [
    "def main(dvx,dvy):\n",
    "    t=0.0\n",
    "    a=0.0\n",
    "    b=10.0\n",
    "    N=100\n",
    "    h=(b-a)/N    \n",
    "    \n",
    "    tpoints=arange(a,b,h)\n",
    "    vx=[]\n",
    "    x=0\n",
    "\n",
    "    for t in tpoints:\n",
    "        vx.append(x)\n",
    "        k1=h*f(x,t)\n",
    "        k2=h*f(x+.5*k1,t+.5*h)\n",
    "        k3=h*f(x+.5*k2,t+.5*h)\n",
    "        k4=h*f(x+k3,t+h)\n",
    "        dvx+=(k1+2*k2+2*k3+k4)/6\n",
    "\n",
    "    plot(tpoints,vx)\n",
    "    xlabel(\"x-direction feet\")\n",
    "    ylabel(\"y-direction feet\")\n",
    "    show()\n",
    "        \n",
    "if __name__==\"__main__\":\n",
    "    main(dvx,dvy)\n",
    "    "
   ]
  },
  {
   "cell_type": "markdown",
   "metadata": {},
   "source": [
    "Our function main(dvx,dvy) is defining the acceleration of of the basketball in the x and y direction. The plot didn't turn out how we wanted it, but we were trying to plot the distance traveled in the x and y directions. "
   ]
  },
  {
   "cell_type": "markdown",
   "metadata": {},
   "source": [
    "## Finding The Initial Velocity:"
   ]
  },
  {
   "cell_type": "markdown",
   "metadata": {},
   "source": [
    "In order to find the initial velocity, we use \n",
    "\n",
    "$$v=\\sqrt{vx^2 +vy^2}$$ \n",
    "\n",
    "v is the velocity at a certain time, dependent on the velocity of the basketball in the x and y direction. "
   ]
  },
  {
   "cell_type": "code",
   "execution_count": 53,
   "metadata": {},
   "outputs": [],
   "source": [
    "#We need the final code to find the initial velocity, the plot is also wrong which I fix while working on the final code. \n",
    "#I will finish the notebook as if I know the answer and hopefully be able to turn it in again. \n",
    "#I will then be able to create a conclusion as well."
   ]
  },
  {
   "cell_type": "code",
   "execution_count": null,
   "metadata": {},
   "outputs": [],
   "source": []
  },
  {
   "cell_type": "code",
   "execution_count": null,
   "metadata": {},
   "outputs": [],
   "source": []
  }
 ],
 "metadata": {
  "kernelspec": {
   "display_name": "Python 3",
   "language": "python",
   "name": "python3"
  },
  "language_info": {
   "codemirror_mode": {
    "name": "ipython",
    "version": 3
   },
   "file_extension": ".py",
   "mimetype": "text/x-python",
   "name": "python",
   "nbconvert_exporter": "python",
   "pygments_lexer": "ipython3",
   "version": "3.6.10"
  }
 },
 "nbformat": 4,
 "nbformat_minor": 4
}
